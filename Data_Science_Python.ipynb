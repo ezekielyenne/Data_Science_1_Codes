{
  "nbformat": 4,
  "nbformat_minor": 0,
  "metadata": {
    "colab": {
      "provenance": []
    },
    "kernelspec": {
      "name": "python3",
      "display_name": "Python 3"
    },
    "language_info": {
      "name": "python"
    }
  },
  "cells": [
    {
      "cell_type": "code",
      "execution_count": null,
      "metadata": {
        "id": "rq36mI-hKHnS"
      },
      "outputs": [],
      "source": [
        "## DATA SCIENCE BATCH-2023 Assignment 5"
      ]
    },
    {
      "cell_type": "code",
      "source": [
        "## Q1. Write a Python function to find the maximum of three numbers in a list."
      ],
      "metadata": {
        "id": "8S5SCUOvKXsN"
      },
      "execution_count": null,
      "outputs": []
    },
    {
      "cell_type": "code",
      "source": [
        "# Import the necessary modules\n",
        "import numpy as np\n",
        "import pandas as pd\n",
        "import random as rd"
      ],
      "metadata": {
        "id": "c98AofcINzAv"
      },
      "execution_count": 90,
      "outputs": []
    },
    {
      "cell_type": "code",
      "source": [
        "# define a function\n",
        "def maximum_number(x, y, z):\n",
        "\n",
        "    if (x >= y) and (x >= z):\n",
        "        max = x\n",
        "\n",
        "    elif (y >= x) and (y >= z):\n",
        "        max = y\n",
        "    else:\n",
        "        max = c\n",
        "    return max\n",
        "# check the code to get the maximum number\n",
        "x, y, z = [40, 10, 30]\n",
        "Maximum_value = maximum_number(x, y, z)\n",
        "print ('The maximum number of the three list is', Maximum_value)"
      ],
      "metadata": {
        "colab": {
          "base_uri": "https://localhost:8080/"
        },
        "id": "m_37wI2HKBKk",
        "outputId": "57394657-1d97-42f4-dc0c-dbe3df602307"
      },
      "execution_count": 93,
      "outputs": [
        {
          "output_type": "stream",
          "name": "stdout",
          "text": [
            "The maximum number of the three list is 40\n"
          ]
        }
      ]
    },
    {
      "cell_type": "code",
      "source": [
        "## Q2. Write a Python function to multiply all the numbers in a list."
      ],
      "metadata": {
        "id": "mVrd83kBJxDo"
      },
      "execution_count": null,
      "outputs": []
    },
    {
      "cell_type": "code",
      "source": [
        "# define a function\n",
        "def multiply_number (numbers):\n",
        "  i = 1\n",
        "  for a_num in numbers:\n",
        "        i = a_num*i\n",
        "  return i\n",
        "\n",
        "# check the code to multiply the numbers\n",
        "numbers = [40, 10, 30]\n",
        "answer = multiply_number (numbers)\n",
        "print ('Multiplying the numbers in a list gives', answer)"
      ],
      "metadata": {
        "id": "oUwlH4bSiZ_N",
        "colab": {
          "base_uri": "https://localhost:8080/"
        },
        "outputId": "c8624dee-2408-4ba1-cc76-7c263b68ed1b"
      },
      "execution_count": 94,
      "outputs": [
        {
          "output_type": "stream",
          "name": "stdout",
          "text": [
            "Multiplying the numbers in a list gives 12000\n"
          ]
        }
      ]
    },
    {
      "cell_type": "code",
      "source": [
        "## Q3. Write a Python program to reverse a list\n",
        "\n",
        "#define a function to start reading from the end of a list\n",
        "\n",
        "def list_reverse(input_list):\n",
        "    return input_list[::-1]\n",
        "\n",
        "    # Example usage:\n",
        "Yenne_list = [11, 12, 13, 14, 15, 16, 18, 19]\n",
        "Yenne_list_OK = list_reverse(Yenne_list.copy())\n",
        "print ('The reversred list is;', Yenne_list_OK)"
      ],
      "metadata": {
        "colab": {
          "base_uri": "https://localhost:8080/"
        },
        "id": "CARp7UJXGf8I",
        "outputId": "28fbcedf-f797-47f5-a9cc-a4655aa498b1"
      },
      "execution_count": 95,
      "outputs": [
        {
          "output_type": "stream",
          "name": "stdout",
          "text": [
            "The reversred list is; [19, 18, 16, 15, 14, 13, 12, 11]\n"
          ]
        }
      ]
    },
    {
      "cell_type": "code",
      "source": [
        "## Q4.  Write a Python function to check whether a number falls within a given range in a list"
      ],
      "metadata": {
        "id": "W5GIVTPuG6L-"
      },
      "execution_count": null,
      "outputs": []
    },
    {
      "cell_type": "code",
      "source": [
        "# define a function\n",
        "def finding_range(numbers):\n",
        "\n",
        "    if numbers in range(1,20):\n",
        "        print(\"The number is in the range.\")\n",
        "    else:\n",
        "        print(\"The number is not within the range.\")\n",
        "# check the code\n",
        "finding_range(500)"
      ],
      "metadata": {
        "colab": {
          "base_uri": "https://localhost:8080/"
        },
        "id": "fdMV7134p7a3",
        "outputId": "3a2a77bd-5e1f-44c4-c133-2fcca1475f13"
      },
      "execution_count": 96,
      "outputs": [
        {
          "output_type": "stream",
          "name": "stdout",
          "text": [
            "The number is not within the range.\n"
          ]
        }
      ]
    },
    {
      "cell_type": "code",
      "source": [
        "## Q5.  Write a Python function that accepts a string and counts the number of upper and lower case letters"
      ],
      "metadata": {
        "id": "JVMER61O4dNx"
      },
      "execution_count": 97,
      "outputs": []
    },
    {
      "cell_type": "code",
      "source": [
        "def upper_and_lower(alphabet_string): # definign the function\n",
        "  upper_al = 0\n",
        "  lower_al = 0\n",
        "\n",
        "  for character in alphabet_string:\n",
        "    if character.isupper():\n",
        "      upper_al = upper_al + 1\n",
        "\n",
        "    elif character.islower():\n",
        "      lower_al = lower_al + 1\n",
        "\n",
        "  return 'Upper case total count is', upper_al,'Lower case letters total count is', lower_al\n",
        "print\n",
        "print\n",
        "# check if the code works\n",
        "Characters = 'YenneEE'\n",
        "Upper_Lower= upper_and_lower(Characters)\n",
        "Upper_Lower"
      ],
      "metadata": {
        "colab": {
          "base_uri": "https://localhost:8080/"
        },
        "id": "OJlgapDs4xlz",
        "outputId": "1f9d8595-7a7e-4ab6-9d74-ed872fdab4f4"
      },
      "execution_count": 98,
      "outputs": [
        {
          "output_type": "execute_result",
          "data": {
            "text/plain": [
              "('Upper case total count is', 3, 'Lower case letters total count is', 4)"
            ]
          },
          "metadata": {},
          "execution_count": 98
        }
      ]
    },
    {
      "cell_type": "code",
      "source": [
        "## Q6. Write a Python function that takes a list and returns a new list with distinct elements from the first list.\n",
        "\n",
        "def distc(numbers):\n",
        "  ## convert the numbers to set to remove duplicates\n",
        "  unique_set = set(numbers)\n",
        "  ## convert the numbers to list\n",
        "  unique_list = list(unique_set)\n",
        "  return unique_list\n",
        "\n",
        "\n",
        "# check the code\n",
        "Sample_List = [1,2,3,3,3,3,4,5]\n",
        "UniqueList = distc(Sample_List)\n",
        "UniqueList"
      ],
      "metadata": {
        "colab": {
          "base_uri": "https://localhost:8080/"
        },
        "id": "JIbpuZWxV-kW",
        "outputId": "ec26187c-21a0-4f20-8d12-0c7e1805f9ea"
      },
      "execution_count": 100,
      "outputs": [
        {
          "output_type": "execute_result",
          "data": {
            "text/plain": [
              "[1, 2, 3, 4, 5]"
            ]
          },
          "metadata": {},
          "execution_count": 100
        }
      ]
    },
    {
      "cell_type": "code",
      "source": [
        "## Q7.Apply all system defined functions like append, remove etc on a given list.\n",
        "\n",
        "## Using the example Sample_List = [1,2,3,3,3,3,4,5,7,9,9,18]\n",
        "\n",
        "######### 1. Applying append on the above\n",
        "Sample_List_new = [1,2,3,3,3,3,4,5,7,9,9,18]\n",
        "Sample_List_new.append(100)\n",
        "Sample_List_new"
      ],
      "metadata": {
        "colab": {
          "base_uri": "https://localhost:8080/"
        },
        "id": "4JMjN_3ydgf5",
        "outputId": "3459d74a-b35f-4dbf-d674-96ab423cb8f9"
      },
      "execution_count": 101,
      "outputs": [
        {
          "output_type": "execute_result",
          "data": {
            "text/plain": [
              "[1, 2, 3, 3, 3, 3, 4, 5, 7, 9, 9, 18, 100]"
            ]
          },
          "metadata": {},
          "execution_count": 101
        }
      ]
    },
    {
      "cell_type": "code",
      "source": [
        "######### 2. Applying remove on the above\n",
        "Sample_List_new = [1, 2, 3, 3, 3, 3, 4, 5, 7, 9, 9, 18, 100]\n",
        "Sample_List_new.remove(5)\n",
        "Sample_List_new"
      ],
      "metadata": {
        "colab": {
          "base_uri": "https://localhost:8080/"
        },
        "id": "8HL1cE9LdkFi",
        "outputId": "096e5024-a503-494f-c2a1-6fe8a9c26777"
      },
      "execution_count": 102,
      "outputs": [
        {
          "output_type": "execute_result",
          "data": {
            "text/plain": [
              "[1, 2, 3, 3, 3, 3, 4, 7, 9, 9, 18, 100]"
            ]
          },
          "metadata": {},
          "execution_count": 102
        }
      ]
    },
    {
      "cell_type": "code",
      "source": [
        "######## 3. Applying sort on the above\n",
        "Sample_List_new = [1, 2, 3, 3, 3, 3, 4, 5, 7, 9, 9, 18, 100]\n",
        "Sample_List_new.sort()\n",
        "Sample_List_new"
      ],
      "metadata": {
        "colab": {
          "base_uri": "https://localhost:8080/"
        },
        "id": "z5U-M8YXfMqn",
        "outputId": "c6dc9210-1ec9-416a-d679-e88d3e2de313"
      },
      "execution_count": 103,
      "outputs": [
        {
          "output_type": "execute_result",
          "data": {
            "text/plain": [
              "[1, 2, 3, 3, 3, 3, 4, 5, 7, 9, 9, 18, 100]"
            ]
          },
          "metadata": {},
          "execution_count": 103
        }
      ]
    },
    {
      "cell_type": "code",
      "source": [
        "######### 4. Applying clear on the above\n",
        "Sample_List_new = [1, 2, 3, 3, 3, 3, 4, 5, 7, 9, 9, 18, 100]\n",
        "Sample_List_new.clear()\n",
        "Sample_List_new"
      ],
      "metadata": {
        "colab": {
          "base_uri": "https://localhost:8080/"
        },
        "id": "uid2EXP9fqVb",
        "outputId": "61e4fb39-e4d8-4ce2-b1d3-68f857dcb12f"
      },
      "execution_count": 104,
      "outputs": [
        {
          "output_type": "execute_result",
          "data": {
            "text/plain": [
              "[]"
            ]
          },
          "metadata": {},
          "execution_count": 104
        }
      ]
    },
    {
      "cell_type": "code",
      "source": [
        "########## 5. Applying clear on the above\n",
        "Sample_List_new = [1, 2, 3, 3, 3, 3, 4, 5, 7, 9, 9, 18, 100]\n",
        "Sample_List_new.pop()\n",
        "Sample_List_new"
      ],
      "metadata": {
        "colab": {
          "base_uri": "https://localhost:8080/"
        },
        "id": "pa7iRJIegIAW",
        "outputId": "2c8dbeb7-8722-47a3-e7dc-fe4e0d4ee24c"
      },
      "execution_count": 105,
      "outputs": [
        {
          "output_type": "execute_result",
          "data": {
            "text/plain": [
              "[1, 2, 3, 3, 3, 3, 4, 5, 7, 9, 9, 18]"
            ]
          },
          "metadata": {},
          "execution_count": 105
        }
      ]
    },
    {
      "cell_type": "code",
      "source": [
        "## Q8. WAP to Convert a list into a dictionary.\n",
        "\n",
        "def list_funct(numbers):\n",
        "  ## Convert the numbers to dictionary\n",
        "  dict_res = {}\n",
        "  i = 0\n",
        "  for i in range(len(numbers)):\n",
        "    dict_res[i] = numbers[i]\n",
        "  return dict_res\n",
        "\n",
        "# check the code\n",
        "Sample_List = ['dog', 'cat', 3, 4, 5,'Hen', 9, 18]\n",
        "Dict_List = list_funct(Sample_List)\n",
        "print(Dict_List)"
      ],
      "metadata": {
        "colab": {
          "base_uri": "https://localhost:8080/"
        },
        "id": "YGrdzSgGgoyo",
        "outputId": "b95699cf-295e-49fa-d507-739799cea7b5"
      },
      "execution_count": 106,
      "outputs": [
        {
          "output_type": "stream",
          "name": "stdout",
          "text": [
            "{0: 'dog', 1: 'cat', 2: 3, 3: 4, 4: 5, 5: 'Hen', 6: 9, 7: 18}\n"
          ]
        }
      ]
    },
    {
      "cell_type": "code",
      "source": [
        "## Q9. WAP to Create a dictionary by extracting the keys from a given dictionary\n",
        "# Inputs\n",
        "sample_dict = {\"name\": \"Kelly\",\"age\": 25,\"salary\": 8000,\"city\": \"New york\"}\n",
        "#define a function\n",
        "def dict_extract(sample_dict):\n",
        "     return\n",
        "\n",
        "#Solution:\n",
        "Output = dict_extract(sample_dict)   ## call the function\n",
        "print(('name:' + str(sample_dict.get(\"name\")),\n",
        "       'salary:' + str(sample_dict.get(\"salary\"))))\n"
      ],
      "metadata": {
        "colab": {
          "base_uri": "https://localhost:8080/"
        },
        "id": "Ui2SJUAliGVa",
        "outputId": "ad80be6c-61ac-477d-f77d-e95540f65ae1"
      },
      "execution_count": 107,
      "outputs": [
        {
          "output_type": "stream",
          "name": "stdout",
          "text": [
            "('name:Kelly', 'salary:8000')\n"
          ]
        }
      ]
    },
    {
      "cell_type": "code",
      "source": [
        "# Q10. WAP to Get the key of a minimum value from the following dictionary\n",
        "\n",
        "#Input:\n",
        "sample_dict = {'Physics': 82,'Math': 65, 'history': 75}\n",
        "\n",
        "# Find the key with the minimum value\n",
        "min_value = min(sample_dict, key=sample_dict.get)\n",
        "\n",
        "# Output minimum value\n",
        "print(\"The minimum value:\", min_value)"
      ],
      "metadata": {
        "id": "fB3CazJKdt96",
        "colab": {
          "base_uri": "https://localhost:8080/"
        },
        "outputId": "67f26455-7c25-4136-d890-d704aa536b28"
      },
      "execution_count": 108,
      "outputs": [
        {
          "output_type": "stream",
          "name": "stdout",
          "text": [
            "The minimum value: Math\n"
          ]
        }
      ]
    },
    {
      "cell_type": "code",
      "source": [
        "# Q11. WAP to Sort dictionary by values - descending scores\n",
        "\n",
        "#Input:\n",
        "sample_dict = {'Physics': 82,'Math': 65,'history': 75,'chemistry': 89,'GK': 50}\n",
        "\n",
        "# Sort the dictionary by values in descending order\n",
        "sorted_sample_dict = dict(sorted(sample_dict.items(), key=lambda item: item[1], reverse=True))\n",
        "print(sorted_sample_dict)\n"
      ],
      "metadata": {
        "id": "wUL_EG4M8lUs",
        "colab": {
          "base_uri": "https://localhost:8080/"
        },
        "outputId": "c48f9c0d-e9aa-4e81-9d76-45522ff48798"
      },
      "execution_count": 109,
      "outputs": [
        {
          "output_type": "stream",
          "name": "stdout",
          "text": [
            "{'chemistry': 89, 'Physics': 82, 'history': 75, 'Math': 65, 'GK': 50}\n"
          ]
        }
      ]
    }
  ]
}